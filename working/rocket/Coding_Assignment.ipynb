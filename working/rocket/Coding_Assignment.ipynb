{
 "cells": [
  {
   "cell_type": "markdown",
   "metadata": {},
   "source": [
    "# Coding Assignment : Rocket Flight #"
   ]
  },
  {
   "cell_type": "markdown",
   "metadata": {},
   "source": [
    "**Arnaud RUEFF & Antonin URRUTY**<br /><br />"
   ]
  },
  {
   "cell_type": "markdown",
   "metadata": {},
   "source": [
    "The altitude *h* and speed *v* of the rocket are given by :\n",
    "\n",
    "\\begin{align} \\frac{dh}{dt} &= v\\\\ (m_s+m_p) \\frac{dv}{dt}& = -(m_s+m_p)g + \\dot{m}_pv_e - \\frac{1}{2}\\rho v|v|AC_D \\end{align}"
   ]
  },
  {
   "cell_type": "markdown",
   "metadata": {},
   "source": [
    "The mass of the remaining propellant is given by : <br /> <br />\n",
    "$ m_p = m_{po} - \\int^t_0 \\dot{m}_p d\\tau $ <br /><br />\n",
    "where $\\dot{m}_p$ is is the time-varying burn rate.  <br /><br />\n",
    "====> The figure shows us that $\\dot{m}_p$ is **constant** at a rate of **20Kg/s for 5 seconds**, and then instantly vanishes (the propellant is totally consumed) <br /><br />"
   ]
  },
  {
   "cell_type": "markdown",
   "metadata": {},
   "source": [
    "# Python Script"
   ]
  },
  {
   "cell_type": "markdown",
   "metadata": {},
   "source": [
    "*Using Euler's method with a timestep of Δt=0.1s, create a Python script to calculate the altitude and velocity of the rocket from launch until crash down.*"
   ]
  },
  {
   "cell_type": "markdown",
   "metadata": {},
   "source": [
    "* Importing libraries and declaration of variables"
   ]
  },
  {
   "cell_type": "code",
   "execution_count": 5,
   "metadata": {
    "collapsed": false
   },
   "outputs": [],
   "source": [
    "import numpy\n",
    "import matplotlib\n",
    "\n",
    "h = 0\n",
    "ms = 50000   # in grams\n",
    "g = 9,81     # in m/s2\n",
    "rho = 1.091  # kg/m3 \n",
    "PI = numpy.pi\n",
    "A = PI*(0.5)**2\n",
    "ve = 325     # m/s\n",
    "Cd = 0.15\n",
    "mpo = 100000 # g at time t=0\n",
    "mpdot = 20000 # burn rate in g/s. Valid for 5s, then 0 (all the propellant is consumed)"
   ]
  },
  {
   "cell_type": "markdown",
   "metadata": {},
   "source": [
    "* Mass of remaining propellant"
   ]
  },
  {
   "cell_type": "code",
   "execution_count": 6,
   "metadata": {
    "collapsed": false
   },
   "outputs": [],
   "source": [
    "# We define a function for the remaining propellant, dependant on time :\n",
    "\n",
    "def remainingprop(t):\n",
    "    if t > 5:\n",
    "        mp = 0\n",
    "    elif t < 0:        \n",
    "        mp=mpo\n",
    "        print(\"please use t>=0, you ignorant twat\") #please Anto don't forget to make that sentence cleaner\n",
    "    else:\n",
    "        mp = mpo - mpdot*t  #we directly developped the integral, as mpdot is constant\n",
    "    return mp"
   ]
  },
  {
   "cell_type": "code",
   "execution_count": 12,
   "metadata": {
    "collapsed": false
   },
   "outputs": [
    {
     "name": "stdout",
     "output_type": "stream",
     "text": [
      "70000.0\n"
     ]
    }
   ],
   "source": [
    "t=1.5\n",
    "print(remainingprop(t))"
   ]
  },
  {
   "cell_type": "code",
   "execution_count": 10,
   "metadata": {
    "collapsed": false
   },
   "outputs": [
    {
     "name": "stdout",
     "output_type": "stream",
     "text": [
      "0\n"
     ]
    }
   ],
   "source": [
    "print(remainingprop(t))"
   ]
  },
  {
   "cell_type": "code",
   "execution_count": null,
   "metadata": {
    "collapsed": true
   },
   "outputs": [],
   "source": []
  }
 ],
 "metadata": {
  "kernelspec": {
   "display_name": "Python 3",
   "language": "python",
   "name": "python3"
  },
  "language_info": {
   "codemirror_mode": {
    "name": "ipython",
    "version": 3
   },
   "file_extension": ".py",
   "mimetype": "text/x-python",
   "name": "python",
   "nbconvert_exporter": "python",
   "pygments_lexer": "ipython3",
   "version": "3.4.3"
  }
 },
 "nbformat": 4,
 "nbformat_minor": 0
}
